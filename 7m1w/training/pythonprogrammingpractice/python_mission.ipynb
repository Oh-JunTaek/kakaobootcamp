{
 "cells": [
  {
   "cell_type": "code",
   "execution_count": 6,
   "id": "e4805d85-fa99-4670-a486-82117b7569ae",
   "metadata": {},
   "outputs": [
    {
     "name": "stdin",
     "output_type": "stream",
     "text": [
      "이름을 입력하세요:  123\n",
      "나이를 입력하세요:  4555\n"
     ]
    },
    {
     "name": "stdout",
     "output_type": "stream",
     "text": [
      "나이는 0에서 120 사이의 숫자여야 합니다.\n"
     ]
    },
    {
     "name": "stdin",
     "output_type": "stream",
     "text": [
      "이름을 입력하세요:  asd\n",
      "나이를 입력하세요:  12\n",
      "이메일을 입력하세요:  123@12\n"
     ]
    },
    {
     "name": "stdout",
     "output_type": "stream",
     "text": [
      "{'name': 'asd', 'age': 12, 'email': '123@12'}\n"
     ]
    }
   ],
   "source": [
    "# 예외처리 - 문자열, 불가능한 나이\n",
    "def validate_age(age):\n",
    "    if isinstance(age, str) and age.isdigit() and 0 <= int(age) <= 120:\n",
    "        return int(age)\n",
    "    else:\n",
    "        raise ValueError(\"나이는 0에서 120 사이의 숫자여야 합니다.\")\n",
    "\n",
    "def validate_email(email):\n",
    "    if '@' in email:\n",
    "        return email\n",
    "    else:\n",
    "        raise ValueError(\"이메일 형식을 확인해 주세요.\")\n",
    "\n",
    "def userinput():\n",
    "    user_info = {}\n",
    "\n",
    "    while True:\n",
    "        try:\n",
    "            user_info['name'] = input(\"이름을 입력하세요: \")\n",
    "            user_info['age'] = validate_age(input(\"나이를 입력하세요: \"))\n",
    "            user_info['email'] = validate_email(input(\"이메일을 입력하세요: \"))\n",
    "            break\n",
    "        except ValueError as e:\n",
    "            print(e)\n",
    "    \n",
    "    return user_info\n",
    "\n",
    "user_info = userinput()\n",
    "print(user_info)"
   ]
  },
  {
   "cell_type": "code",
   "execution_count": 12,
   "id": "35745217-ec12-40b4-9764-91e9d43d0e6c",
   "metadata": {},
   "outputs": [
    {
     "name": "stdout",
     "output_type": "stream",
     "text": [
      "계산기 프로그램에 오신 것을 환영합니다.\n"
     ]
    },
    {
     "name": "stdin",
     "output_type": "stream",
     "text": [
      "첫 번째 숫자를 입력하세요:  1\n",
      "두 번째 숫자를 입력하세요:  2\n",
      "연산자(+, -, *, /)를 입력하세요:  -\n"
     ]
    },
    {
     "name": "stdout",
     "output_type": "stream",
     "text": [
      "결과: -1.0\n"
     ]
    },
    {
     "name": "stdin",
     "output_type": "stream",
     "text": [
      "계속 하시겠습니까? (y/n)  ㅜ\n"
     ]
    }
   ],
   "source": [
    "class Calculator:\n",
    "    def __init__(self):\n",
    "        pass\n",
    "\n",
    "    def add(self, a, b):\n",
    "        return a + b\n",
    "\n",
    "    def subtract(self, a, b):\n",
    "        return a - b\n",
    "\n",
    "    def multiply(self, a, b):\n",
    "        return a * b\n",
    "        \n",
    "#나누기0은 예외설정\n",
    "    def divide(self, a, b):\n",
    "        try:\n",
    "            result = a / b\n",
    "        except ZeroDivisionError:\n",
    "            return \"Error: Division by zero is not allowed.\"\n",
    "        except Exception as e:\n",
    "            return f\"An error occurred: {e}\"\n",
    "        else:\n",
    "            return result\n",
    "\n",
    "def main():\n",
    "    while True:\n",
    "        num1 = float(input(\"첫 번째 숫자를 입력하세요: \"))\n",
    "        num2 = float(input(\"두 번째 숫자를 입력하세요: \"))\n",
    "        operator = input(\"연산자(+, -, *, /)를 입력하세요: \")\n",
    "\n",
    "        calc = Calculator()\n",
    "\n",
    "        if operator == \"+\":\n",
    "            result = calc.add(num1, num2)\n",
    "        elif operator == \"-\":\n",
    "            result = calc.subtract(num1, num2)\n",
    "        elif operator == \"*\":\n",
    "            result = calc.multiply(num1, num2)\n",
    "        elif operator == \"/\":\n",
    "            result = calc.divide(num1, num2)\n",
    "        else:\n",
    "            print(\"잘못된 연산자입니다.\")\n",
    "            continue\n",
    "\n",
    "        print(f\"결과: {result}\")\n",
    "\n",
    "        again = input(\"계속 하시겠습니까? (y/n) \")\n",
    "        if again.lower() == \"n\":\n",
    "            break\n",
    "        elif again.lower() != \"y\":\n",
    "            print(\"잘못된 입력입니다. 다시 입력해 주세요.\")\n",
    "\n",
    "if __name__ == \"__main__\":\n",
    "    main()"
   ]
  },
  {
   "cell_type": "code",
   "execution_count": 44,
   "id": "bc7e1fb9-b28e-4adc-8c49-998c8da54815",
   "metadata": {},
   "outputs": [
    {
     "name": "stdout",
     "output_type": "stream",
     "text": [
      "1\n",
      "1\n",
      "2\n",
      "3\n",
      "5\n",
      "8\n",
      "13\n",
      "21\n",
      "34\n",
      "55\n"
     ]
    }
   ],
   "source": [
    "def fibonacci():\n",
    "    a, b = 1, 1\n",
    "    while True:\n",
    "        yield a\n",
    "        a, b = b, a + b\n",
    "\n",
    "# 피보나치 수열의 첫 10개 값 출력\n",
    "fib_gen = fibonacci()\n",
    "for i in range(10):\n",
    "    print(next(fib_gen))"
   ]
  },
  {
   "cell_type": "code",
   "execution_count": 20,
   "id": "9ea6517f-5349-4142-8a42-4b2cad38a3fb",
   "metadata": {},
   "outputs": [
    {
     "name": "stdin",
     "output_type": "stream",
     "text": [
      "키를 입력하세요 (종료하려면 Enter 키 입력):  13\n",
      "값을 입력하세요:  24\n",
      "키를 입력하세요 (종료하려면 Enter 키 입력):  \n",
      "저장할 파일 이름을 입력하세요:  14\n"
     ]
    },
    {
     "name": "stdout",
     "output_type": "stream",
     "text": [
      "데이터가 14.json 파일에 저장되었습니다.\n",
      "파일 내용:\n",
      "13: 24\n"
     ]
    }
   ],
   "source": [
    "import json\n",
    "\n",
    "# 사용자로부터 데이터 입력받기\n",
    "data = {}\n",
    "while True:\n",
    "    key = input(\"키를 입력하세요 (종료하려면 Enter 키 입력): \")\n",
    "    if not key:\n",
    "        break\n",
    "    value = input(\"값을 입력하세요: \")\n",
    "    data[key] = value\n",
    "\n",
    "# 파일 이름 입력받기\n",
    "file_name = input(\"저장할 파일 이름을 입력하세요: \") + \".json\"\n",
    "\n",
    "# JSON 파일로 저장하기\n",
    "with open(file_name, \"w\") as f:\n",
    "    json.dump(data, f, indent=4)\n",
    "\n",
    "print(f\"데이터가 {file_name} 파일에 저장되었습니다.\")\n",
    "\n",
    "# JSON 파일 내용 읽어서 출력하기\n",
    "with open(file_name, \"r\") as f:\n",
    "    loaded_data = json.load(f)\n",
    "\n",
    "print(\"파일 내용:\")\n",
    "for key, value in loaded_data.items():\n",
    "    print(f\"{key}: {value}\")"
   ]
  },
  {
   "cell_type": "code",
   "execution_count": 34,
   "id": "d4e933a8-bc8f-495a-8e0f-6be2c3f110b9",
   "metadata": {},
   "outputs": [
    {
     "name": "stdin",
     "output_type": "stream",
     "text": [
      "ID:  1345\n",
      "이름:  ㅇㅇ\n",
      "나이:  19\n",
      "이메일:  1@2\n",
      "계속 입력하시겠습니까? (y/n)  n\n"
     ]
    },
    {
     "name": "stdout",
     "output_type": "stream",
     "text": [
      "ID: 1, 이름: John Doe, 나이: 30, 이메일: john.doe@example.com\n",
      "ID: 2, 이름: Jane Smith, 나이: 25, 이메일: jane.smith@example.com\n",
      "ID: 3, 이름: Bob Johnson, 나이: 40, 이메일: bob.johnson@example.com\n",
      "ID: 1345, 이름: ㅇㅇ, 나이: 19, 이메일: 1@2\n",
      "ID: 4444, 이름: 오, 나이: 19, 이메일: 13@ㅁㄴㅇ.ㅊ0ㅡ\n"
     ]
    }
   ],
   "source": [
    "import sqlite3\n",
    "\n",
    "# SQLite 데이터베이스 연결\n",
    "conn = sqlite3.connect('users.db')\n",
    "c = conn.cursor()\n",
    "\n",
    "# users 테이블 생성\n",
    "c.execute('''CREATE TABLE IF NOT EXISTS users\n",
    "             (id INTEGER PRIMARY KEY, name TEXT, age INTEGER, email TEXT)''')\n",
    "\n",
    "def validate_age(age):\n",
    "    if isinstance(age, str) and age.isdigit() and 0 <= int(age) <= 120:\n",
    "        return int(age)\n",
    "    else:\n",
    "        raise ValueError(\"나이는 0에서 120 사이의 숫자여야 합니다.\")\n",
    "\n",
    "def validate_email(email):\n",
    "    if '@' in email:\n",
    "        return email\n",
    "    else:\n",
    "        raise ValueError(\"이메일 형식을 확인해 주세요.\")\n",
    "\n",
    "def get_user_input():\n",
    "    while True:\n",
    "        try:\n",
    "            id = int(input(\"ID: \"))\n",
    "            name = input(\"이름: \")\n",
    "            age_input = input(\"나이: \")\n",
    "            age = validate_age(age_input)\n",
    "            email_input = input(\"이메일: \")\n",
    "            email = validate_email(email_input)\n",
    "\n",
    "            # 사용자 정보 데이터베이스에 저장 시도\n",
    "            c.execute(\"INSERT INTO users (id, name, age, email) VALUES (?, ?, ?, ?)\", (id, name, age, email))\n",
    "            conn.commit()\n",
    "            break\n",
    "        except sqlite3.IntegrityError:\n",
    "            print(\"중복된 ID가 입력되었습니다. 다시 시도해주세요.\")\n",
    "        except ValueError as ve:\n",
    "            print(f\"잘못된 값이 입력되었습니다: {ve}\")\n",
    "        except Exception as e:\n",
    "            print(f\"오류가 발생했습니다: {e}. 다시 시도해주세요.\")\n",
    "\n",
    "# 사용자 정보 입력 받기\n",
    "while True:\n",
    "    get_user_input()\n",
    "    \n",
    "    while True:\n",
    "        cont = input(\"계속 입력하시겠습니까? (y/n) \").lower()\n",
    "        if cont == 'y':\n",
    "            break\n",
    "        elif cont == 'n':\n",
    "            break\n",
    "        else:\n",
    "            print(\"잘못된 입력입니다. 'y' 또는  'n'을 입력하세요.\")\n",
    "    \n",
    "    if cont == 'n':\n",
    "        break\n",
    "\n",
    "# 데이터베이스에서 사용자 정보 조회\n",
    "c.execute(\"SELECT * FROM users\")\n",
    "users = c.fetchall()\n",
    "\n",
    "# 사용자 정보 출력\n",
    "for user in users:\n",
    "    print(f\"ID: {user[0]}, 이름: {user[1]}, 나이: {user[2]}, 이메일: {user[3]}\")\n",
    "\n",
    "# 데이터베이스 연결 종료\n",
    "conn.close()"
   ]
  },
  {
   "cell_type": "code",
   "execution_count": 36,
   "id": "bfc6d315-3b3f-4b0b-81c8-57d2054cb7ef",
   "metadata": {},
   "outputs": [
    {
     "name": "stdin",
     "output_type": "stream",
     "text": [
      "숫자를 입력하세요:  3\n"
     ]
    },
    {
     "name": "stdout",
     "output_type": "stream",
     "text": [
      "결과: 3.3333333333333335\n"
     ]
    }
   ],
   "source": [
    "try:\n",
    "    num = float(input(\"숫자를 입력하세요: \"))\n",
    "    result = 10 / num\n",
    "    print(f\"결과: {result}\")\n",
    "except ZeroDivisionError:\n",
    "    print(\"0으로 나눌 수 없습니다.\")\n",
    "except ValueError:\n",
    "    print(\"유효한 숫자를 입력하세요.\")"
   ]
  },
  {
   "cell_type": "code",
   "execution_count": null,
   "id": "9d166832-f539-47ee-ae97-e13adc7f91df",
   "metadata": {},
   "outputs": [],
   "source": []
  }
 ],
 "metadata": {
  "kernelspec": {
   "display_name": "Python 3 (ipykernel)",
   "language": "python",
   "name": "python3"
  },
  "language_info": {
   "codemirror_mode": {
    "name": "ipython",
    "version": 3
   },
   "file_extension": ".py",
   "mimetype": "text/x-python",
   "name": "python",
   "nbconvert_exporter": "python",
   "pygments_lexer": "ipython3",
   "version": "3.11.5"
  }
 },
 "nbformat": 4,
 "nbformat_minor": 5
}
